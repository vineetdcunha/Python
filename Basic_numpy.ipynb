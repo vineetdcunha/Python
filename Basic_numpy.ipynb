{
 "cells": [
  {
   "cell_type": "code",
   "execution_count": 67,
   "metadata": {},
   "outputs": [
    {
     "name": "stdout",
     "output_type": "stream",
     "text": [
      "Returns equally spaced values in the range 0 through 100\n",
      "[ 0  1  2  3  4  5  6  7  8  9 10 11 12 13 14 15 16 17 18 19 20 21 22 23\n",
      " 24 25 26 27 28 29 30 31 32 33 34 35 36 37 38 39 40 41 42 43 44 45 46 47\n",
      " 48 49 50 51 52 53 54 55 56 57 58 59 60 61 62 63 64 65 66 67 68 69 70 71\n",
      " 72 73 74 75 76 77 78 79 80 81 82 83 84 85 86 87 88 89 90 91 92 93 94 95\n",
      " 96 97 98 99]\n"
     ]
    }
   ],
   "source": [
    "#Name: Vineet Dcunha\n",
    "#\"I have not given or received any unauthorized assistance on this assignment.\"\n",
    "\n",
    "import numpy as np\n",
    "a = np.arange(0,100)\n",
    "# create a numpy a array with the start number as 0 and end number as 100 and equally spaced numbers\n",
    "print ('Returns equally spaced values in the range 0 through 100')\n",
    "print (a)"
   ]
  },
  {
   "cell_type": "code",
   "execution_count": 68,
   "metadata": {},
   "outputs": [
    {
     "name": "stdout",
     "output_type": "stream",
     "text": [
      "Returns 10 equally spaced values in the range 0 through 100\n",
      "[ 0 10 20 30 40 50 60 70 80 90]\n"
     ]
    }
   ],
   "source": [
    "b = np.arange(0,100,10)\n",
    "# create a numpy b array with the start number as 0 and end number as 100 and 10 equally spaced numbers\n",
    "print ('Returns 10 equally spaced values in the range 0 through 100')\n",
    "print (b)"
   ]
  },
  {
   "cell_type": "code",
   "execution_count": 69,
   "metadata": {},
   "outputs": [
    {
     "name": "stdout",
     "output_type": "stream",
     "text": [
      "Returns values spaced at 0.1 in the range 0 through 10\n",
      "[ 0.          0.1010101   0.2020202   0.3030303   0.4040404   0.50505051\n",
      "  0.60606061  0.70707071  0.80808081  0.90909091  1.01010101  1.11111111\n",
      "  1.21212121  1.31313131  1.41414141  1.51515152  1.61616162  1.71717172\n",
      "  1.81818182  1.91919192  2.02020202  2.12121212  2.22222222  2.32323232\n",
      "  2.42424242  2.52525253  2.62626263  2.72727273  2.82828283  2.92929293\n",
      "  3.03030303  3.13131313  3.23232323  3.33333333  3.43434343  3.53535354\n",
      "  3.63636364  3.73737374  3.83838384  3.93939394  4.04040404  4.14141414\n",
      "  4.24242424  4.34343434  4.44444444  4.54545455  4.64646465  4.74747475\n",
      "  4.84848485  4.94949495  5.05050505  5.15151515  5.25252525  5.35353535\n",
      "  5.45454545  5.55555556  5.65656566  5.75757576  5.85858586  5.95959596\n",
      "  6.06060606  6.16161616  6.26262626  6.36363636  6.46464646  6.56565657\n",
      "  6.66666667  6.76767677  6.86868687  6.96969697  7.07070707  7.17171717\n",
      "  7.27272727  7.37373737  7.47474747  7.57575758  7.67676768  7.77777778\n",
      "  7.87878788  7.97979798  8.08080808  8.18181818  8.28282828  8.38383838\n",
      "  8.48484848  8.58585859  8.68686869  8.78787879  8.88888889  8.98989899\n",
      "  9.09090909  9.19191919  9.29292929  9.39393939  9.49494949  9.5959596\n",
      "  9.6969697   9.7979798   9.8989899  10.        ]\n"
     ]
    }
   ],
   "source": [
    "c = np.linspace(0,10,num = 100)\n",
    "# create a numpy c array with the start number as 0 and end number as 100 and generates 100 numbers equally spaced\n",
    "print ('Returns values spaced at 0.1 in the range 0 through 10')\n",
    "print (c)"
   ]
  },
  {
   "cell_type": "code",
   "execution_count": 70,
   "metadata": {},
   "outputs": [
    {
     "name": "stdout",
     "output_type": "stream",
     "text": [
      "Returning an array of 10*10 random numbers\n",
      "[[0.39973725 0.87762384 0.76008349 0.50330654 0.2493384  0.51596297\n",
      "  0.78878545 0.21969195 0.68983254 0.26340114]\n",
      " [0.60714896 0.93497179 0.811149   0.80134063 0.99445172 0.67003754\n",
      "  0.369788   0.8463387  0.83144532 0.24642462]\n",
      " [0.51670416 0.61897192 0.61300671 0.83018585 0.44994892 0.89451139\n",
      "  0.94934994 0.10693089 0.7165912  0.93214484]\n",
      " [0.61544569 0.61431262 0.8669082  0.51431874 0.07030219 0.22633447\n",
      "  0.97772483 0.95774908 0.53706094 0.68252389]\n",
      " [0.78081042 0.76042725 0.93002358 0.02010845 0.18415271 0.44721854\n",
      "  0.22796889 0.59610844 0.02080737 0.16839995]\n",
      " [0.25040053 0.59623055 0.96652612 0.47988279 0.56721299 0.52786392\n",
      "  0.68456265 0.21531013 0.63201047 0.99685837]\n",
      " [0.69366659 0.22950947 0.12632029 0.09120505 0.34212657 0.98741516\n",
      "  0.93346858 0.63972874 0.00920969 0.34793851]\n",
      " [0.91942115 0.33302363 0.81123693 0.01461206 0.69756091 0.02014383\n",
      "  0.17844    0.97558621 0.04974356 0.73362656]\n",
      " [0.85055087 0.33865346 0.0025001  0.92780818 0.29805021 0.84379878\n",
      "  0.11928705 0.04367866 0.03809991 0.23121086]\n",
      " [0.82731916 0.87630379 0.9694276  0.97622092 0.80240034 0.06596636\n",
      "  0.41181461 0.8503685  0.92105939 0.36790039]]\n"
     ]
    }
   ],
   "source": [
    "d = np.random.random((10,10))\n",
    "# create a numpy d array with random numbers and 10*10 matrix\n",
    "print ('Returning an array of 10*10 random numbers')\n",
    "print (d)"
   ]
  },
  {
   "cell_type": "code",
   "execution_count": 71,
   "metadata": {},
   "outputs": [
    {
     "name": "stdout",
     "output_type": "stream",
     "text": [
      "Reshaping the array a of 100 numbers in 10*10 format\n",
      "[[ 0  1  2  3  4  5  6  7  8  9]\n",
      " [10 11 12 13 14 15 16 17 18 19]\n",
      " [20 21 22 23 24 25 26 27 28 29]\n",
      " [30 31 32 33 34 35 36 37 38 39]\n",
      " [40 41 42 43 44 45 46 47 48 49]\n",
      " [50 51 52 53 54 55 56 57 58 59]\n",
      " [60 61 62 63 64 65 66 67 68 69]\n",
      " [70 71 72 73 74 75 76 77 78 79]\n",
      " [80 81 82 83 84 85 86 87 88 89]\n",
      " [90 91 92 93 94 95 96 97 98 99]]\n"
     ]
    }
   ],
   "source": [
    "a = a.reshape(10,10)\n",
    "# Modifies the shape of a in 10*10 matrix\n",
    "print ('Reshaping the array a of 100 numbers in 10*10 format')\n",
    "print (a)"
   ]
  },
  {
   "cell_type": "code",
   "execution_count": 72,
   "metadata": {},
   "outputs": [
    {
     "name": "stdout",
     "output_type": "stream",
     "text": [
      "The result returns the element in an array at position [4,5]: 45\n",
      "45\n"
     ]
    }
   ],
   "source": [
    "result1 = a[4,5]\n",
    "# Returns element at specific position\n",
    "print ('The result returns the element in an array at position [4,5]:', result1)\n",
    "print (result1)"
   ]
  },
  {
   "cell_type": "code",
   "execution_count": 73,
   "metadata": {},
   "outputs": [
    {
     "name": "stdout",
     "output_type": "stream",
     "text": [
      "The result returns all the numbers at row [4]: [40 41 42 43 44 45 46 47 48 49]\n",
      "[40 41 42 43 44 45 46 47 48 49]\n"
     ]
    }
   ],
   "source": [
    "result2 = a[4]\n",
    "# Returns element at specific position\n",
    "print ('The result returns all the numbers at row [4]:', result2)\n",
    "print (result2)"
   ]
  },
  {
   "cell_type": "code",
   "execution_count": 74,
   "metadata": {},
   "outputs": [
    {
     "name": "stdout",
     "output_type": "stream",
     "text": [
      "Adds all the numbers in array d on each row\n",
      "[6.46120481 6.18002831 6.85718202 5.1589892  4.65554498 5.19925295\n",
      " 5.64119001 5.45149129 4.44586039 4.97042912]\n",
      "\n",
      "Adds all the numbers in array d\n",
      "55.02117309382868\n"
     ]
    }
   ],
   "source": [
    "result3 = sum(d)\n",
    "# Adds numbers in array d row wise\n",
    "print ('Adds all the numbers in array d on each row')\n",
    "print (result3)\n",
    "# Adds all numbers in array d\n",
    "print ('\\nAdds all the numbers in array d')\n",
    "print (sum(result3))"
   ]
  },
  {
   "cell_type": "code",
   "execution_count": 75,
   "metadata": {},
   "outputs": [
    {
     "name": "stdout",
     "output_type": "stream",
     "text": [
      "Returns the maximum number from array a\n",
      "99\n"
     ]
    }
   ],
   "source": [
    "result4 = a.max()\n",
    "# Returns max number in array a\n",
    "print ('Returns the maximum number from array a')\n",
    "print (result4)"
   ]
  },
  {
   "cell_type": "code",
   "execution_count": 76,
   "metadata": {},
   "outputs": [
    {
     "name": "stdout",
     "output_type": "stream",
     "text": [
      "Returns the transpose of array b\n",
      "[ 0 10 20 30 40 50 60 70 80 90]\n"
     ]
    }
   ],
   "source": [
    "result5 = b.transpose()\n",
    "# Returns the transpose of array b\n",
    "print ('Returns the transpose of array b')\n",
    "print (result5)"
   ]
  },
  {
   "cell_type": "code",
   "execution_count": 77,
   "metadata": {},
   "outputs": [
    {
     "name": "stdout",
     "output_type": "stream",
     "text": [
      "Adds all the numbers in array a and array d for each position\n",
      "[[ 0.39973725  1.87762384  2.76008349  3.50330654  4.2493384   5.51596297\n",
      "   6.78878545  7.21969195  8.68983254  9.26340114]\n",
      " [10.60714896 11.93497179 12.811149   13.80134063 14.99445172 15.67003754\n",
      "  16.369788   17.8463387  18.83144532 19.24642462]\n",
      " [20.51670416 21.61897192 22.61300671 23.83018585 24.44994892 25.89451139\n",
      "  26.94934994 27.10693089 28.7165912  29.93214484]\n",
      " [30.61544569 31.61431262 32.8669082  33.51431874 34.07030219 35.22633447\n",
      "  36.97772483 37.95774908 38.53706094 39.68252389]\n",
      " [40.78081042 41.76042725 42.93002358 43.02010845 44.18415271 45.44721854\n",
      "  46.22796889 47.59610844 48.02080737 49.16839995]\n",
      " [50.25040053 51.59623055 52.96652612 53.47988279 54.56721299 55.52786392\n",
      "  56.68456265 57.21531013 58.63201047 59.99685837]\n",
      " [60.69366659 61.22950947 62.12632029 63.09120505 64.34212657 65.98741516\n",
      "  66.93346858 67.63972874 68.00920969 69.34793851]\n",
      " [70.91942115 71.33302363 72.81123693 73.01461206 74.69756091 75.02014383\n",
      "  76.17844    77.97558621 78.04974356 79.73362656]\n",
      " [80.85055087 81.33865346 82.0025001  83.92780818 84.29805021 85.84379878\n",
      "  86.11928705 87.04367866 88.03809991 89.23121086]\n",
      " [90.82731916 91.87630379 92.9694276  93.97622092 94.80240034 95.06596636\n",
      "  96.41181461 97.8503685  98.92105939 99.36790039]]\n"
     ]
    }
   ],
   "source": [
    "result6 = a + d\n",
    "# Adds all the numbers in array a and d at each position\n",
    "print ('Adds all the numbers in array a and array d for each position')\n",
    "print (result6)"
   ]
  },
  {
   "cell_type": "code",
   "execution_count": 78,
   "metadata": {},
   "outputs": [
    {
     "name": "stdout",
     "output_type": "stream",
     "text": [
      "Multiplies all the numbers in array a and array d for each position\n",
      "[[ 0.          0.87762384  1.52016698  1.50991963  0.99735362  2.57981486\n",
      "   4.73271272  1.53784364  5.51866031  2.37061023]\n",
      " [ 6.07148963 10.28468965  9.73378803 10.4174282  13.92232413 10.05056303\n",
      "   5.91660808 14.38775797 14.96601584  4.68206769]\n",
      " [10.3340832  12.9984103  13.4861476  19.09427447 10.7987742  22.36278476\n",
      "  24.68309832  2.88713391 20.06455361 27.03220044]\n",
      " [18.4633708  19.04369131 27.74106227 16.97251829  2.39027461  7.92170633\n",
      "  35.19809376 35.43671579 20.40831576 26.61843169]\n",
      " [31.23241686 31.17751722 39.06099049  0.86466346  8.10271905 20.12483444\n",
      "  10.48656912 28.01709691  0.99875378  8.25159762]\n",
      " [12.52002668 30.40775805 50.25935837 25.43378762 30.62950156 29.03251573\n",
      "  38.3355086  12.27267725 36.65660706 58.81464401]\n",
      " [41.61999566 14.00007758  7.83185826  5.7459183  21.8961005  64.18198514\n",
      "  61.60892618 42.86182542  0.62625863 24.00775697]\n",
      " [64.3594807  23.64467754 58.40905875  1.0666801  51.61950765  1.51078711\n",
      "  13.56144033 75.12013781  3.87999766 57.95649825]\n",
      " [68.04406989 27.43093013  0.20500791 77.00807903 25.03621793 71.72289628\n",
      "  10.25868642  3.80004385  3.35279192 20.5777664 ]\n",
      " [74.45872462 79.74364478 89.18733926 90.78854511 75.42563209  6.26680391\n",
      "  39.53420253 82.48574455 90.26382062 36.42213839]]\n"
     ]
    }
   ],
   "source": [
    "result7 = a * d\n",
    "# Multiplies all the numbers in array a and d at each position\n",
    "print ('Multiplies all the numbers in array a and array d for each position')\n",
    "print (result7)"
   ]
  },
  {
   "cell_type": "code",
   "execution_count": 79,
   "metadata": {},
   "outputs": [
    {
     "name": "stdout",
     "output_type": "stream",
     "text": [
      "Dot Product all the numbers in array a and array d for each position\n",
      "[[ 32.7103658   24.34289921  28.37204139  23.34248466  22.21962254\n",
      "   20.97584268  21.0468706   26.0646538   16.11688921  22.19998496]\n",
      " [ 97.32241389  86.14318231  96.94386161  74.93237666  68.77507238\n",
      "   72.96837219  77.45877071  80.57956674  60.57549311  71.90427618]\n",
      " [161.93446198 147.94346542 165.51568184 126.52226865 115.33052223\n",
      "  124.9609017  133.87067082 135.09447968 105.03409701 121.6085674 ]\n",
      " [226.54651007 209.74374852 234.08750206 178.11216065 161.88597207\n",
      "  176.95343121 190.28257094 189.60939261 149.49270091 171.31285862]\n",
      " [291.15855816 271.54403163 302.65932229 229.70205265 208.44142191\n",
      "  228.94596072 246.69447105 244.12430555 193.95130481 221.01714984]\n",
      " [355.77060625 333.34431473 371.23114251 281.29194465 254.99687175\n",
      "  280.93849022 303.10637116 298.63921849 238.40990872 270.72144106]\n",
      " [420.38265434 395.14459784 439.80296274 332.88183664 301.5523216\n",
      "  332.93101973 359.51827128 353.15413142 282.86851262 320.42573228]\n",
      " [484.99470243 456.94488094 508.37478296 384.47172864 348.10777144\n",
      "  384.92354924 415.93017139 407.66904436 327.32711652 370.1300235 ]\n",
      " [549.60675052 518.74516404 576.94660319 436.06162064 394.66322128\n",
      "  436.91607875 472.3420715  462.1839573  371.78572042 419.83431472]\n",
      " [614.21879862 580.54544715 645.51842341 487.65151263 441.21867113\n",
      "  488.90860825 528.75397161 516.69887024 416.24432432 469.53860593]]\n"
     ]
    }
   ],
   "source": [
    "result8 = np.dot(a , d)\n",
    "# Returns the dot product all the numbers in array a and d at each position\n",
    "print ('Dot Product all the numbers in array a and array d for each position')\n",
    "print (result8)"
   ]
  }
 ],
 "metadata": {
  "kernelspec": {
   "display_name": "Python 3",
   "language": "python",
   "name": "python3"
  },
  "language_info": {
   "codemirror_mode": {
    "name": "ipython",
    "version": 3
   },
   "file_extension": ".py",
   "mimetype": "text/x-python",
   "name": "python",
   "nbconvert_exporter": "python",
   "pygments_lexer": "ipython3",
   "version": "3.7.4"
  }
 },
 "nbformat": 4,
 "nbformat_minor": 2
}
